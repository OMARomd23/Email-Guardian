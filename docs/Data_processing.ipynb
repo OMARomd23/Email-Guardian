{
 "cells": [
  {
   "cell_type": "markdown",
   "id": "d10be62c",
   "metadata": {},
   "source": [
    "If you use this datasets, please cite:\n",
    "1. A. I. Champa, M. F. Rabbi, and M. F. Zibran, “Why phishing emails escape detection: A closer look at the failure points,” in 12th Interna- tional Symposium on Digital Forensics and Security (ISDFS), 2024, pp. 1–6.\n",
    "2. A. I. Champa, M. F. Rabbi, and M. F. Zibran, “Curated datasets and feature analysis for phishing email detection with machine learning,” in 3rd IEEE International Conference on Computing and Machine Intelligence (ICMI), 2024, pp. 1–7."
   ]
  },
  {
   "cell_type": "code",
   "execution_count": 1,
   "id": "4c4e6597",
   "metadata": {},
   "outputs": [],
   "source": [
    "import os\n",
    "import pandas as pd\n",
    "import json\n",
    "import csv"
   ]
  },
  {
   "cell_type": "code",
   "execution_count": 38,
   "id": "efea9b4f",
   "metadata": {},
   "outputs": [
    {
     "name": "stdout",
     "output_type": "stream",
     "text": [
      "1397\n",
      "2551\n"
     ]
    }
   ],
   "source": [
    "legit_files = os.listdir(\"easy_ham/easy_ham\")\n",
    "spam_files = os.listdir(\"spam_2/spam_2\")\n",
    "print(len(spam_files),len(legit_files), sep=\"\\n\")"
   ]
  },
  {
   "cell_type": "code",
   "execution_count": 39,
   "id": "f5455352",
   "metadata": {},
   "outputs": [
    {
     "data": {
      "text/plain": [
       "'cmds'"
      ]
     },
     "execution_count": 39,
     "metadata": {},
     "output_type": "execute_result"
    }
   ],
   "source": [
    "spam_files.pop(-1) "
   ]
  },
  {
   "cell_type": "code",
   "execution_count": 40,
   "id": "3509098f",
   "metadata": {},
   "outputs": [
    {
     "name": "stdout",
     "output_type": "stream",
     "text": [
      "1396\n"
     ]
    }
   ],
   "source": [
    "print(len(spam_files))"
   ]
  },
  {
   "cell_type": "code",
   "execution_count": null,
   "id": "e8b24e30",
   "metadata": {},
   "outputs": [],
   "source": [
    "def read_file(file_path):\n",
    "    with open(file_path, \"r\", encoding=\"ISO-8859-1\") as f:\n",
    "        lines = f.readlines()\n",
    "        content = ' '.join([])\n",
    "        return f.read().replace(\",\",\"\").replace(\"\\n\",\" \").replace(\"\\t\",\" \").replace('\"',\" \").replace(\"'\",\"\").strip()"
   ]
  },
  {
   "cell_type": "code",
   "execution_count": 42,
   "id": "c9cd087d",
   "metadata": {},
   "outputs": [
    {
     "data": {
      "text/plain": [
       "'From exmh-workers-admin@redhat.com  Thu Aug 22 12:36:23 2002 Return-Path: <exmh-workers-admin@example.com> Delivered-To: zzzz@localhost.netnoteinc.com Received: from localhost (localhost [127.0.0.1])  by phobos.labs.netnoteinc.com (Postfix) with ESMTP id D03E543C36  for <zzzz@localhost>; Thu 22 Aug 2002 07:36:16 -0400 (EDT) Received: from phobos [127.0.0.1]  by localhost with IMAP (fetchmail-5.9.0)  for zzzz@localhost (single-drop); Thu 22 Aug 2002 12:36:16 +0100 (IST) Received: from listman.example.com (listman.example.com [66.187.233.211]) by     dogma.slashnull.org (8.11.6/8.11.6) with ESMTP id g7MBYrZ04811 for     <zzzz-exmh@example.com>; Thu 22 Aug 2002 12:34:53 +0100 Received: from listman.example.com (localhost.localdomain [127.0.0.1]) by     listman.redhat.com (Postfix) with ESMTP id 8386540858; Thu 22 Aug 2002     07:35:02 -0400 (EDT) Delivered-To: exmh-workers@listman.example.com Received: from int-mx1.corp.example.com (int-mx1.corp.example.com     [172.16.52.254]) by listman.redhat.com (Postfix) with ESMTP id 10CF8406D7     for <exmh-workers@listman.redhat.com>; Thu 22 Aug 2002 07:34:10 -0400     (EDT) Received: (from mail@localhost) by int-mx1.corp.example.com (8.11.6/8.11.6)     id g7MBY7g11259 for exmh-workers@listman.redhat.com; Thu 22 Aug 2002     07:34:07 -0400 Received: from mx1.example.com (mx1.example.com [172.16.48.31]) by     int-mx1.corp.redhat.com (8.11.6/8.11.6) with SMTP id g7MBY7Y11255 for     <exmh-workers@redhat.com>; Thu 22 Aug 2002 07:34:07 -0400 Received: from ratree.psu.ac.th ([202.28.97.6]) by mx1.example.com     (8.11.6/8.11.6) with SMTP id g7MBIhl25223 for <exmh-workers@redhat.com>;     Thu 22 Aug 2002 07:18:55 -0400 Received: from delta.cs.mu.OZ.AU (delta.coe.psu.ac.th [172.30.0.98]) by     ratree.psu.ac.th (8.11.6/8.11.6) with ESMTP id g7MBWel29762;     Thu 22 Aug 2002 18:32:40 +0700 (ICT) Received: from munnari.OZ.AU (localhost [127.0.0.1]) by delta.cs.mu.OZ.AU     (8.11.6/8.11.6) with ESMTP id g7MBQPW13260; Thu 22 Aug 2002 18:26:25     +0700 (ICT) From: Robert Elz <kre@munnari.OZ.AU> To: Chris Garrigues <cwg-dated-1030377287.06fa6d@DeepEddy.Com> Cc: exmh-workers@example.com Subject: Re: New Sequences Window In-Reply-To: <1029945287.4797.TMDA@deepeddy.vircio.com> References: <1029945287.4797.TMDA@deepeddy.vircio.com>     <1029882468.3116.TMDA@deepeddy.vircio.com> <9627.1029933001@munnari.OZ.AU>     <1029943066.26919.TMDA@deepeddy.vircio.com>     <1029944441.398.TMDA@deepeddy.vircio.com> MIME-Version: 1.0 Content-Type: text/plain; charset=us-ascii Message-Id: <13258.1030015585@munnari.OZ.AU> X-Loop: exmh-workers@example.com Sender: exmh-workers-admin@example.com Errors-To: exmh-workers-admin@example.com X-Beenthere: exmh-workers@example.com X-Mailman-Version: 2.0.1 Precedence: bulk List-Help: <mailto:exmh-workers-request@example.com?subject=help> List-Post: <mailto:exmh-workers@example.com> List-Subscribe: <https://listman.example.com/mailman/listinfo/exmh-workers>     <mailto:exmh-workers-request@redhat.com?subject=subscribe> List-Id: Discussion list for EXMH developers <exmh-workers.example.com> List-Unsubscribe: <https://listman.example.com/mailman/listinfo/exmh-workers>     <mailto:exmh-workers-request@redhat.com?subject=unsubscribe> List-Archive: <https://listman.example.com/mailman/private/exmh-workers/> Date: Thu 22 Aug 2002 18:26:25 +0700      Date:        Wed 21 Aug 2002 10:54:46 -0500     From:        Chris Garrigues <cwg-dated-1030377287.06fa6d@DeepEddy.Com>     Message-ID:  <1029945287.4797.TMDA@deepeddy.vircio.com>     | I cant reproduce this error.  For me it is very repeatable... (like every time without fail).  This is the debug log of the pick happening ...  18:19:03 Pick_It {exec pick +inbox -list -lbrace -lbrace -subject ftp -rbrace -rbrace} {4852-4852 -sequence mercury} 18:19:03 exec pick +inbox -list -lbrace -lbrace -subject ftp -rbrace -rbrace 4852-4852 -sequence mercury 18:19:04 Ftoc_PickMsgs {{1 hit}} 18:19:04 Marking 1 hits 18:19:04 tkerror: syntax error in expression  int ...  Note if I run the pick command by hand ...  delta$ pick +inbox -list -lbrace -lbrace -subject ftp -rbrace -rbrace  4852-4852 -sequence mercury 1 hit  Thats where the  1 hit  comes from (obviously).  The version of nmh Im using is ...  delta$ pick -version pick -- nmh-1.0.4 [compiled on fuchsia.cs.mu.OZ.AU at Sun Mar 17 14:55:56 ICT 2002]  And the relevant part of my .mh_profile ...  delta$ mhparam pick -seq sel -list   Since the pick command works the sequence (actually both of them the one thats explicit on the command line from the search popup and the one that comes from .mh_profile) do get created.  kre  ps: this is still using the version of the code form a day ago I havent been able to reach the cvs repository today (local routing issue I think).    _______________________________________________ Exmh-workers mailing list Exmh-workers@redhat.com https://listman.redhat.com/mailman/listinfo/exmh-workers'"
      ]
     },
     "execution_count": 42,
     "metadata": {},
     "output_type": "execute_result"
    }
   ],
   "source": [
    "read_file(\"easy_ham/easy_ham/0001.ea7e79d3153e7469e7a9c3e0af6a357e\")"
   ]
  },
  {
   "cell_type": "markdown",
   "id": "48b80e36",
   "metadata": {},
   "source": [
    "### Here i am going to create two dataframes and join them together"
   ]
  },
  {
   "cell_type": "code",
   "execution_count": 43,
   "id": "a05eea7c",
   "metadata": {},
   "outputs": [],
   "source": [
    "legit_data = pd.DataFrame({\"text\":[read_file(f\"easy_ham/easy_ham/{i}\") for i in legit_files],\"label\":[\"legit\" for i in range(len(legit_files))]})\n",
    "spam_data = pd.DataFrame({\"text\":[read_file(f\"spam_2/spam_2/{i}\") for i in spam_files],\"label\":[\"spam\" for i in range(len(spam_files))]})"
   ]
  },
  {
   "cell_type": "code",
   "execution_count": 44,
   "id": "0e85e5cb",
   "metadata": {},
   "outputs": [
    {
     "name": "stdout",
     "output_type": "stream",
     "text": [
      "<class 'pandas.core.frame.DataFrame'>\n",
      "RangeIndex: 2551 entries, 0 to 2550\n",
      "Data columns (total 2 columns):\n",
      " #   Column  Non-Null Count  Dtype \n",
      "---  ------  --------------  ----- \n",
      " 0   text    2551 non-null   object\n",
      " 1   label   2551 non-null   object\n",
      "dtypes: object(2)\n",
      "memory usage: 40.0+ KB\n"
     ]
    }
   ],
   "source": [
    "legit_data.info()"
   ]
  },
  {
   "cell_type": "code",
   "execution_count": 45,
   "id": "8c68a4cc",
   "metadata": {},
   "outputs": [
    {
     "name": "stdout",
     "output_type": "stream",
     "text": [
      "<class 'pandas.core.frame.DataFrame'>\n",
      "RangeIndex: 1396 entries, 0 to 1395\n",
      "Data columns (total 2 columns):\n",
      " #   Column  Non-Null Count  Dtype \n",
      "---  ------  --------------  ----- \n",
      " 0   text    1396 non-null   object\n",
      " 1   label   1396 non-null   object\n",
      "dtypes: object(2)\n",
      "memory usage: 21.9+ KB\n"
     ]
    }
   ],
   "source": [
    "spam_data.info()"
   ]
  },
  {
   "cell_type": "code",
   "execution_count": 46,
   "id": "a2862e17",
   "metadata": {},
   "outputs": [],
   "source": [
    "data_combined = pd.concat([legit_data,spam_data])"
   ]
  },
  {
   "cell_type": "code",
   "execution_count": 47,
   "id": "4e0b2f26",
   "metadata": {},
   "outputs": [],
   "source": [
    "data_combined.to_csv(\"spam_assasin.csv\", index=False, encoding='utf-8')"
   ]
  },
  {
   "cell_type": "markdown",
   "id": "dcf9d991",
   "metadata": {},
   "source": [
    "## Cleaning CEAS dataset"
   ]
  },
  {
   "cell_type": "code",
   "execution_count": 48,
   "id": "d94be4e9",
   "metadata": {},
   "outputs": [],
   "source": [
    "ceas_dataset=pd.read_csv(\"CEAS_08.csv\")"
   ]
  },
  {
   "cell_type": "code",
   "execution_count": 49,
   "id": "312456de",
   "metadata": {},
   "outputs": [
    {
     "name": "stdout",
     "output_type": "stream",
     "text": [
      "<class 'pandas.core.frame.DataFrame'>\n",
      "RangeIndex: 39154 entries, 0 to 39153\n",
      "Data columns (total 7 columns):\n",
      " #   Column    Non-Null Count  Dtype \n",
      "---  ------    --------------  ----- \n",
      " 0   sender    39154 non-null  object\n",
      " 1   receiver  38692 non-null  object\n",
      " 2   date      39154 non-null  object\n",
      " 3   subject   39126 non-null  object\n",
      " 4   body      39154 non-null  object\n",
      " 5   label     39154 non-null  int64 \n",
      " 6   urls      39154 non-null  int64 \n",
      "dtypes: int64(2), object(5)\n",
      "memory usage: 2.1+ MB\n"
     ]
    }
   ],
   "source": [
    "ceas_dataset.info()"
   ]
  },
  {
   "cell_type": "code",
   "execution_count": 50,
   "id": "2d151a08",
   "metadata": {},
   "outputs": [],
   "source": [
    "ceas_dataset[\"text\"] = ceas_dataset[\"subject\"] + \"\\n\" + ceas_dataset[\"body\"]"
   ]
  },
  {
   "cell_type": "code",
   "execution_count": 51,
   "id": "335814e6",
   "metadata": {},
   "outputs": [],
   "source": [
    "ceas_dataset = ceas_dataset.drop(columns=[\"body\",\"subject\", \"sender\",\"receiver\",\"date\",\"urls\"])"
   ]
  },
  {
   "cell_type": "code",
   "execution_count": 52,
   "id": "726c94d2",
   "metadata": {},
   "outputs": [
    {
     "name": "stderr",
     "output_type": "stream",
     "text": [
      "C:\\Users\\OMAR\\AppData\\Local\\Temp\\ipykernel_17660\\2734388610.py:1: FutureWarning: Setting an item of incompatible dtype is deprecated and will raise an error in a future version of pandas. Value 'legit' has dtype incompatible with int64, please explicitly cast to a compatible dtype first.\n",
      "  ceas_dataset.loc[ceas_dataset[\"label\"]==0, \"label\"]=\"legit\"\n"
     ]
    }
   ],
   "source": [
    "ceas_dataset.loc[ceas_dataset[\"label\"]==0, \"label\"]=\"legit\"\n",
    "ceas_dataset.loc[ceas_dataset[\"label\"]==1, \"label\"]=\"spam\""
   ]
  },
  {
   "cell_type": "code",
   "execution_count": 53,
   "id": "69231d70",
   "metadata": {},
   "outputs": [
    {
     "data": {
      "text/html": [
       "<div>\n",
       "<style scoped>\n",
       "    .dataframe tbody tr th:only-of-type {\n",
       "        vertical-align: middle;\n",
       "    }\n",
       "\n",
       "    .dataframe tbody tr th {\n",
       "        vertical-align: top;\n",
       "    }\n",
       "\n",
       "    .dataframe thead th {\n",
       "        text-align: right;\n",
       "    }\n",
       "</style>\n",
       "<table border=\"1\" class=\"dataframe\">\n",
       "  <thead>\n",
       "    <tr style=\"text-align: right;\">\n",
       "      <th></th>\n",
       "      <th>text</th>\n",
       "      <th>label</th>\n",
       "    </tr>\n",
       "  </thead>\n",
       "  <tbody>\n",
       "    <tr>\n",
       "      <th>4190</th>\n",
       "      <td>Your ads have been suspended.\\n---------------...</td>\n",
       "      <td>spam</td>\n",
       "    </tr>\n",
       "    <tr>\n",
       "      <th>960</th>\n",
       "      <td>CNN.com Daily Top 10\\n&gt;+=+=+=+=+=+=+=+=+=+=+=+...</td>\n",
       "      <td>spam</td>\n",
       "    </tr>\n",
       "    <tr>\n",
       "      <th>12615</th>\n",
       "      <td>CNN.com Daily Top 10\\n&gt;+=+=+=+=+=+=+=+=+=+=+=+...</td>\n",
       "      <td>spam</td>\n",
       "    </tr>\n",
       "    <tr>\n",
       "      <th>25843</th>\n",
       "      <td>FQDN aliases\\nHello all. One of my Postfix ins...</td>\n",
       "      <td>legit</td>\n",
       "    </tr>\n",
       "    <tr>\n",
       "      <th>29142</th>\n",
       "      <td>For men with erectile dysfunction\\n\\nWomen wil...</td>\n",
       "      <td>spam</td>\n",
       "    </tr>\n",
       "  </tbody>\n",
       "</table>\n",
       "</div>"
      ],
      "text/plain": [
       "                                                    text  label\n",
       "4190   Your ads have been suspended.\\n---------------...   spam\n",
       "960    CNN.com Daily Top 10\\n>+=+=+=+=+=+=+=+=+=+=+=+...   spam\n",
       "12615  CNN.com Daily Top 10\\n>+=+=+=+=+=+=+=+=+=+=+=+...   spam\n",
       "25843  FQDN aliases\\nHello all. One of my Postfix ins...  legit\n",
       "29142  For men with erectile dysfunction\\n\\nWomen wil...   spam"
      ]
     },
     "execution_count": 53,
     "metadata": {},
     "output_type": "execute_result"
    }
   ],
   "source": [
    "ceas_dataset = ceas_dataset[[\"text\", \"label\"]]\n",
    "ceas_dataset.sample(n=5)"
   ]
  },
  {
   "cell_type": "code",
   "execution_count": 54,
   "id": "9ef74d1e",
   "metadata": {},
   "outputs": [],
   "source": [
    "ceas_dataset.to_csv(\"ceas_reduced.csv\", index=False, encoding='utf-8')"
   ]
  },
  {
   "cell_type": "code",
   "execution_count": 55,
   "id": "9131ba3a",
   "metadata": {},
   "outputs": [
    {
     "name": "stdout",
     "output_type": "stream",
     "text": [
      "Legitimate\n",
      "----------\n",
      "- Owner: farmer-d\n",
      "- Total number: 3672 emails\n",
      "- Date of first email: 1999-12-10\n",
      "- Date of last email: 2002-01-11\n",
      "- Similars deletion: No\n",
      "- Encoding: No\n",
      "\n",
      "\n",
      "Spam\n",
      "----\n",
      "- Owner: GP\n",
      "- Total number: 1500 emails\n",
      "- Date of first email: 2003-12-18\n",
      "- Date of last email: 2005-09-06\n",
      "- Similars deletion: No\n",
      "- Encoding: No\n",
      "\n",
      "Spam:Legitimate rate = 1:3\n",
      "Total number of emails (legitimate + spam): 5975\n",
      "\n"
     ]
    }
   ],
   "source": [
    "with open(r\"\\\\172.16.200.192\\Hal9000 Share\\richdale\\moh\\enron\\enron1\\Summary.txt\",'r') as f:\n",
    "    print(f.read())"
   ]
  },
  {
   "cell_type": "code",
   "execution_count": 56,
   "id": "8edea356",
   "metadata": {},
   "outputs": [
    {
     "data": {
      "text/plain": [
       "['enron1', 'enron2', 'enron3', 'enron4', 'enron5', 'enron6']"
      ]
     },
     "execution_count": 56,
     "metadata": {},
     "output_type": "execute_result"
    }
   ],
   "source": [
    "\n",
    "base_path = r\"\\\\172.16.200.192\\Hal9000 Share\\richdale\\moh\\enron\"\n",
    "enron_folders =  os.listdir(base_path)\n",
    "enron_folders.pop(0)\n",
    "enron_folders"
   ]
  },
  {
   "cell_type": "code",
   "execution_count": 57,
   "id": "3d549726",
   "metadata": {},
   "outputs": [],
   "source": [
    "file_dict = {\"legit\":[],\"spam\":[]}\n",
    "for i in enron_folders:\n",
    "    file_dict[\"spam\"].append(os.listdir(f\"{base_path}/{i}/spam\"))\n",
    "    file_dict[\"legit\"].append(os.listdir(f\"{base_path}/{i}/ham\"))\n"
   ]
  },
  {
   "cell_type": "code",
   "execution_count": 58,
   "id": "4548e93c",
   "metadata": {},
   "outputs": [
    {
     "name": "stdout",
     "output_type": "stream",
     "text": [
      "3672\n",
      "4361\n",
      "4012\n",
      "1500\n",
      "1500\n",
      "1500\n",
      "legit count is = 16545\n",
      "1500\n",
      "1496\n",
      "1500\n",
      "4500\n",
      "3675\n",
      "4500\n",
      "spam count is = 17171\n"
     ]
    }
   ],
   "source": [
    "count=0\n",
    "for i in file_dict[\"legit\"]:\n",
    "    print(len(i))\n",
    "    count += len(i)\n",
    "\n",
    "print(\"legit count is =\", count)\n",
    "\n",
    "count=0\n",
    "for i in file_dict[\"spam\"]:\n",
    "    print(len(i))\n",
    "    count += len(i)\n",
    "print(\"spam count is =\", count)\n"
   ]
  },
  {
   "cell_type": "markdown",
   "id": "33af2e56",
   "metadata": {},
   "source": [
    "Here I was checking for how many legit and spam emails are there on the dataset"
   ]
  },
  {
   "cell_type": "markdown",
   "id": "0fed393a",
   "metadata": {},
   "source": [
    "### Turning the dataset into a pandas datafram from files then saving to to a csv file\n",
    "first the legis emails"
   ]
  },
  {
   "cell_type": "code",
   "execution_count": 59,
   "id": "59cb1e87",
   "metadata": {},
   "outputs": [],
   "source": [
    "enron_spam = pd.DataFrame({\"text\":[read_file(f\"{base_path}/{enronnum}/ham\\\\{f}\") for enronnum in enron_folders for f in file_dict[\"legit\"][enron_folders.index(enronnum)]], \"label\":[\"legit\" for i in range(16545)]})"
   ]
  },
  {
   "cell_type": "markdown",
   "id": "6fc39240",
   "metadata": {},
   "source": [
    "What the above line does is:\n",
    " - it makes a dataframe that has all the legit emails\n",
    " - those legit emails are found on a folder named 'hame' inside each enron folder\n",
    " - "
   ]
  },
  {
   "cell_type": "code",
   "execution_count": 60,
   "id": "a501f778",
   "metadata": {},
   "outputs": [],
   "source": [
    "# renaming just for readability\n",
    "enron_legit = enron_spam.copy()"
   ]
  },
  {
   "cell_type": "markdown",
   "id": "c7833e9c",
   "metadata": {},
   "source": [
    "Then same for the spam emails "
   ]
  },
  {
   "cell_type": "code",
   "execution_count": 61,
   "id": "cf5d8e89",
   "metadata": {},
   "outputs": [],
   "source": [
    "enron_spam = pd.DataFrame({\"text\":[read_file(f\"{base_path}/{enronnum}/spam\\\\{f}\") for enronnum in enron_folders for f in file_dict[\"spam\"][enron_folders.index(enronnum)]], \"label\":[\"spam\" for i in range(17171)]})"
   ]
  },
  {
   "cell_type": "code",
   "execution_count": 62,
   "id": "a23c8160",
   "metadata": {},
   "outputs": [],
   "source": [
    "enronds = pd.concat([enron_legit, enron_spam])"
   ]
  },
  {
   "cell_type": "code",
   "execution_count": 63,
   "id": "78a7a9ce",
   "metadata": {},
   "outputs": [
    {
     "name": "stdout",
     "output_type": "stream",
     "text": [
      "<class 'pandas.core.frame.DataFrame'>\n",
      "Index: 33716 entries, 0 to 17170\n",
      "Data columns (total 2 columns):\n",
      " #   Column  Non-Null Count  Dtype \n",
      "---  ------  --------------  ----- \n",
      " 0   text    33716 non-null  object\n",
      " 1   label   33716 non-null  object\n",
      "dtypes: object(2)\n",
      "memory usage: 790.2+ KB\n"
     ]
    }
   ],
   "source": [
    "enronds.info()"
   ]
  },
  {
   "cell_type": "code",
   "execution_count": 64,
   "id": "fac95905",
   "metadata": {},
   "outputs": [],
   "source": [
    "enronds.to_csv('enron_dataset.csv', index=False,encoding='utf-8')"
   ]
  },
  {
   "cell_type": "code",
   "execution_count": null,
   "id": "356c6d0b",
   "metadata": {},
   "outputs": [
    {
     "data": {
      "text/plain": [
       "label\n",
       "phishing    42891\n",
       "legit       39595\n",
       "Name: count, dtype: int64"
      ]
     },
     "execution_count": 65,
     "metadata": {},
     "output_type": "execute_result"
    }
   ],
   "source": [
    "pd.read_j('phishing_dataset_labeled_withtext.csv')[\"label\"].value_counts()"
   ]
  },
  {
   "cell_type": "code",
   "execution_count": 5,
   "id": "7afc0640",
   "metadata": {},
   "outputs": [
    {
     "data": {
      "text/plain": [
       "label\n",
       "spam     17171\n",
       "legit    16545\n",
       "Name: count, dtype: int64"
      ]
     },
     "execution_count": 5,
     "metadata": {},
     "output_type": "execute_result"
    }
   ],
   "source": [
    "pd.read_csv('enron_dataset.csv')[\"label\"].value_counts()"
   ]
  },
  {
   "cell_type": "code",
   "execution_count": 4,
   "id": "fdea6181",
   "metadata": {},
   "outputs": [
    {
     "data": {
      "text/plain": [
       "label\n",
       "spam     21842\n",
       "legit    17312\n",
       "Name: count, dtype: int64"
      ]
     },
     "execution_count": 4,
     "metadata": {},
     "output_type": "execute_result"
    }
   ],
   "source": [
    "pd.read_csv('ceas_reduced.csv')[\"label\"].value_counts()"
   ]
  },
  {
   "cell_type": "markdown",
   "id": "4ef9c605",
   "metadata": {},
   "source": [
    "# Phishing Emails dataset"
   ]
  },
  {
   "cell_type": "code",
   "execution_count": 9,
   "id": "8ffa9cce",
   "metadata": {},
   "outputs": [],
   "source": [
    "phishing_data = pd.read_csv(\"Phishing_Email.csv\")"
   ]
  },
  {
   "cell_type": "code",
   "execution_count": 13,
   "id": "1239eb77",
   "metadata": {},
   "outputs": [],
   "source": [
    "phishing_data = phishing_data.drop(columns=\"Unnamed: 0\")"
   ]
  },
  {
   "cell_type": "markdown",
   "id": "00cf8b20",
   "metadata": {},
   "source": [
    "### renaming columns"
   ]
  },
  {
   "cell_type": "code",
   "execution_count": 14,
   "id": "f3bc52fe",
   "metadata": {},
   "outputs": [],
   "source": [
    "phishing_data = phishing_data.rename(columns={\"Email Text\":\"text\",\"Email Type\":\"label\"})"
   ]
  },
  {
   "cell_type": "code",
   "execution_count": 15,
   "id": "d36cc275",
   "metadata": {},
   "outputs": [
    {
     "data": {
      "text/html": [
       "<div>\n",
       "<style scoped>\n",
       "    .dataframe tbody tr th:only-of-type {\n",
       "        vertical-align: middle;\n",
       "    }\n",
       "\n",
       "    .dataframe tbody tr th {\n",
       "        vertical-align: top;\n",
       "    }\n",
       "\n",
       "    .dataframe thead th {\n",
       "        text-align: right;\n",
       "    }\n",
       "</style>\n",
       "<table border=\"1\" class=\"dataframe\">\n",
       "  <thead>\n",
       "    <tr style=\"text-align: right;\">\n",
       "      <th></th>\n",
       "      <th>text</th>\n",
       "      <th>label</th>\n",
       "    </tr>\n",
       "  </thead>\n",
       "  <tbody>\n",
       "    <tr>\n",
       "      <th>0</th>\n",
       "      <td>re : 6 . 1100 , disc : uniformitarianism , re ...</td>\n",
       "      <td>Safe Email</td>\n",
       "    </tr>\n",
       "    <tr>\n",
       "      <th>1</th>\n",
       "      <td>the other side of * galicismos * * galicismo *...</td>\n",
       "      <td>Safe Email</td>\n",
       "    </tr>\n",
       "    <tr>\n",
       "      <th>2</th>\n",
       "      <td>re : equistar deal tickets are you still avail...</td>\n",
       "      <td>Safe Email</td>\n",
       "    </tr>\n",
       "    <tr>\n",
       "      <th>3</th>\n",
       "      <td>\\nHello I am your hot lil horny toy.\\n    I am...</td>\n",
       "      <td>Phishing Email</td>\n",
       "    </tr>\n",
       "    <tr>\n",
       "      <th>4</th>\n",
       "      <td>software at incredibly low prices ( 86 % lower...</td>\n",
       "      <td>Phishing Email</td>\n",
       "    </tr>\n",
       "    <tr>\n",
       "      <th>...</th>\n",
       "      <td>...</td>\n",
       "      <td>...</td>\n",
       "    </tr>\n",
       "    <tr>\n",
       "      <th>18645</th>\n",
       "      <td>date a lonely housewife always wanted to date ...</td>\n",
       "      <td>Phishing Email</td>\n",
       "    </tr>\n",
       "    <tr>\n",
       "      <th>18646</th>\n",
       "      <td>request submitted : access request for anita ....</td>\n",
       "      <td>Safe Email</td>\n",
       "    </tr>\n",
       "    <tr>\n",
       "      <th>18647</th>\n",
       "      <td>re : important - prc mtg hi dorn &amp; john , as y...</td>\n",
       "      <td>Safe Email</td>\n",
       "    </tr>\n",
       "    <tr>\n",
       "      <th>18648</th>\n",
       "      <td>press clippings - letter on californian utilit...</td>\n",
       "      <td>Safe Email</td>\n",
       "    </tr>\n",
       "    <tr>\n",
       "      <th>18649</th>\n",
       "      <td>empty</td>\n",
       "      <td>Phishing Email</td>\n",
       "    </tr>\n",
       "  </tbody>\n",
       "</table>\n",
       "<p>18650 rows × 2 columns</p>\n",
       "</div>"
      ],
      "text/plain": [
       "                                                    text           label\n",
       "0      re : 6 . 1100 , disc : uniformitarianism , re ...      Safe Email\n",
       "1      the other side of * galicismos * * galicismo *...      Safe Email\n",
       "2      re : equistar deal tickets are you still avail...      Safe Email\n",
       "3      \\nHello I am your hot lil horny toy.\\n    I am...  Phishing Email\n",
       "4      software at incredibly low prices ( 86 % lower...  Phishing Email\n",
       "...                                                  ...             ...\n",
       "18645  date a lonely housewife always wanted to date ...  Phishing Email\n",
       "18646  request submitted : access request for anita ....      Safe Email\n",
       "18647  re : important - prc mtg hi dorn & john , as y...      Safe Email\n",
       "18648  press clippings - letter on californian utilit...      Safe Email\n",
       "18649                                              empty  Phishing Email\n",
       "\n",
       "[18650 rows x 2 columns]"
      ]
     },
     "execution_count": 15,
     "metadata": {},
     "output_type": "execute_result"
    }
   ],
   "source": [
    "phishing_data"
   ]
  },
  {
   "cell_type": "code",
   "execution_count": 16,
   "id": "33674a77",
   "metadata": {},
   "outputs": [],
   "source": [
    "phishing_data.loc[phishing_data[\"label\"]==\"Safe Email\",\"label\"]=\"legit\"\n",
    "phishing_data.loc[phishing_data[\"label\"]==\"Phishing Email\",\"label\"]=\"phishing\"\n"
   ]
  },
  {
   "cell_type": "code",
   "execution_count": 19,
   "id": "22090e17",
   "metadata": {},
   "outputs": [],
   "source": [
    "phishing_data.to_csv(\"phishing_ds_fixed_label.csv\", index=False)"
   ]
  },
  {
   "cell_type": "markdown",
   "id": "724c3ada",
   "metadata": {},
   "source": [
    "## Hugging face Phishing dataset\n",
    "https://huggingface.co/datasets/ealvaradob/phishing-dataset"
   ]
  },
  {
   "cell_type": "code",
   "execution_count": 2,
   "id": "a7f313d2",
   "metadata": {},
   "outputs": [],
   "source": [
    "hfdataset = pd.read_json(r\"\\\\172.16.200.192\\Hal9000 Share\\richdale\\data\\phishing_dataset_combined_reduced.json\")"
   ]
  },
  {
   "cell_type": "code",
   "execution_count": 12,
   "id": "de57cded",
   "metadata": {},
   "outputs": [],
   "source": [
    "hfdataset.loc[hfdataset[\"label\"]==1,\"label\"] = \"phishing\"\n",
    "hfdataset.loc[hfdataset[\"label\"]==0,\"label\"] = \"legit\""
   ]
  },
  {
   "cell_type": "code",
   "execution_count": 13,
   "id": "b87b38bb",
   "metadata": {},
   "outputs": [
    {
     "data": {
      "text/html": [
       "<div>\n",
       "<style scoped>\n",
       "    .dataframe tbody tr th:only-of-type {\n",
       "        vertical-align: middle;\n",
       "    }\n",
       "\n",
       "    .dataframe tbody tr th {\n",
       "        vertical-align: top;\n",
       "    }\n",
       "\n",
       "    .dataframe thead th {\n",
       "        text-align: right;\n",
       "    }\n",
       "</style>\n",
       "<table border=\"1\" class=\"dataframe\">\n",
       "  <thead>\n",
       "    <tr style=\"text-align: right;\">\n",
       "      <th></th>\n",
       "      <th>text</th>\n",
       "      <th>label</th>\n",
       "    </tr>\n",
       "  </thead>\n",
       "  <tbody>\n",
       "    <tr>\n",
       "      <th>0</th>\n",
       "      <td>&lt;!doctypehtml&gt;&lt;html lang=en xml:lang=en xmlns=...</td>\n",
       "      <td>legit</td>\n",
       "    </tr>\n",
       "    <tr>\n",
       "      <th>1</th>\n",
       "      <td>http://online0mgeving.ga/triodos/</td>\n",
       "      <td>phishing</td>\n",
       "    </tr>\n",
       "    <tr>\n",
       "      <th>2</th>\n",
       "      <td>metronews.ca/webapp/Login.aspx?logout=true&amp;rur...</td>\n",
       "      <td>legit</td>\n",
       "    </tr>\n",
       "    <tr>\n",
       "      <th>3</th>\n",
       "      <td>https://rarkuntem.co.jp.fpjiehk.cn/index1.php</td>\n",
       "      <td>phishing</td>\n",
       "    </tr>\n",
       "    <tr>\n",
       "      <th>4</th>\n",
       "      <td>freebase.com/view/m/0ct05qn</td>\n",
       "      <td>legit</td>\n",
       "    </tr>\n",
       "    <tr>\n",
       "      <th>...</th>\n",
       "      <td>...</td>\n",
       "      <td>...</td>\n",
       "    </tr>\n",
       "    <tr>\n",
       "      <th>77672</th>\n",
       "      <td>http://www.definitions.net/definition/icon</td>\n",
       "      <td>legit</td>\n",
       "    </tr>\n",
       "    <tr>\n",
       "      <th>77673</th>\n",
       "      <td>schedule crawler : hourahead failure start dat...</td>\n",
       "      <td>legit</td>\n",
       "    </tr>\n",
       "    <tr>\n",
       "      <th>77674</th>\n",
       "      <td>&lt;!doctypehtml PUBLIC \"-//W3C//DTD HTML+RDFa 1....</td>\n",
       "      <td>legit</td>\n",
       "    </tr>\n",
       "    <tr>\n",
       "      <th>77675</th>\n",
       "      <td>amazon.com/Sound-Horror-James-Philbrook/dp/B00...</td>\n",
       "      <td>legit</td>\n",
       "    </tr>\n",
       "    <tr>\n",
       "      <th>77676</th>\n",
       "      <td>music.yahoo.com/arashi/albums/monster-single--...</td>\n",
       "      <td>legit</td>\n",
       "    </tr>\n",
       "  </tbody>\n",
       "</table>\n",
       "<p>77677 rows × 2 columns</p>\n",
       "</div>"
      ],
      "text/plain": [
       "                                                    text     label\n",
       "0      <!doctypehtml><html lang=en xml:lang=en xmlns=...     legit\n",
       "1                      http://online0mgeving.ga/triodos/  phishing\n",
       "2      metronews.ca/webapp/Login.aspx?logout=true&rur...     legit\n",
       "3          https://rarkuntem.co.jp.fpjiehk.cn/index1.php  phishing\n",
       "4                            freebase.com/view/m/0ct05qn     legit\n",
       "...                                                  ...       ...\n",
       "77672         http://www.definitions.net/definition/icon     legit\n",
       "77673  schedule crawler : hourahead failure start dat...     legit\n",
       "77674  <!doctypehtml PUBLIC \"-//W3C//DTD HTML+RDFa 1....     legit\n",
       "77675  amazon.com/Sound-Horror-James-Philbrook/dp/B00...     legit\n",
       "77676  music.yahoo.com/arashi/albums/monster-single--...     legit\n",
       "\n",
       "[77677 rows x 2 columns]"
      ]
     },
     "execution_count": 13,
     "metadata": {},
     "output_type": "execute_result"
    }
   ],
   "source": [
    "hfdataset"
   ]
  },
  {
   "cell_type": "markdown",
   "id": "f7207bef",
   "metadata": {},
   "source": [
    "# Making a comined dataset from CEAS08, ENRON Spam, Phishing Emails, Spam Assassin"
   ]
  },
  {
   "cell_type": "markdown",
   "id": "01937aa8",
   "metadata": {},
   "source": [
    "## Loading the Datasets"
   ]
  },
  {
   "cell_type": "code",
   "execution_count": 15,
   "id": "bdf7e58a",
   "metadata": {},
   "outputs": [],
   "source": [
    "ceas_dataset = pd.read_csv(\"ceas_reduced.csv\")\n",
    "enron_spam_ds = pd.read_csv(\"enron_dataset.csv\")\n",
    "spam_assassin_ds =pd.read_csv(\"spam_assasin.csv\")\n",
    "# --This dataset confuses the model-- # phishin_ds1 = pd.read_csv(\"phishing_dataset_labeled_withtext.csv\")\n",
    "\n",
    "phishin_ds2 = pd.read_csv(\"phishing_ds_fixed_label.csv\")"
   ]
  },
  {
   "cell_type": "markdown",
   "id": "35de53a9",
   "metadata": {},
   "source": [
    "## Combining"
   ]
  },
  {
   "cell_type": "code",
   "execution_count": 16,
   "id": "38fa749e",
   "metadata": {},
   "outputs": [],
   "source": [
    "combined_dataset = pd.concat([ceas_dataset, enron_spam_ds, spam_assassin_ds, hfdataset, phishin_ds2], axis=0, ignore_index=True)"
   ]
  },
  {
   "cell_type": "code",
   "execution_count": 17,
   "id": "ebb951a6",
   "metadata": {},
   "outputs": [
    {
     "name": "stdout",
     "output_type": "stream",
     "text": [
      "<class 'pandas.core.frame.DataFrame'>\n",
      "RangeIndex: 173144 entries, 0 to 173143\n",
      "Data columns (total 2 columns):\n",
      " #   Column  Non-Null Count   Dtype \n",
      "---  ------  --------------   ----- \n",
      " 0   text    173100 non-null  object\n",
      " 1   label   173144 non-null  object\n",
      "dtypes: object(2)\n",
      "memory usage: 2.6+ MB\n"
     ]
    }
   ],
   "source": [
    "combined_dataset.info()"
   ]
  },
  {
   "cell_type": "code",
   "execution_count": 18,
   "id": "e68c9673",
   "metadata": {},
   "outputs": [],
   "source": [
    "combined_dataset = combined_dataset.dropna(subset=['label'])\n",
    "combined_dataset = combined_dataset.dropna(subset=['text'])\n"
   ]
  },
  {
   "cell_type": "code",
   "execution_count": 19,
   "id": "9eee8919",
   "metadata": {},
   "outputs": [],
   "source": [
    "combined_dataset = combined_dataset.reset_index(drop=True)"
   ]
  },
  {
   "cell_type": "code",
   "execution_count": 20,
   "id": "5e6b6cf1",
   "metadata": {},
   "outputs": [
    {
     "name": "stdout",
     "output_type": "stream",
     "text": [
      "text\n",
      "False    173100\n",
      "Name: count, dtype: int64\n",
      "label\n",
      "False    173100\n",
      "Name: count, dtype: int64\n"
     ]
    }
   ],
   "source": [
    "print(pd.isnull(combined_dataset)[\"text\"].value_counts())\n",
    "print(pd.isnull(combined_dataset)[\"label\"].value_counts())"
   ]
  },
  {
   "cell_type": "markdown",
   "id": "769f0464",
   "metadata": {},
   "source": [
    "## Saving as parquet\n",
    "- **Advantages**: Columnar storage, excellent compression, efficient for analytical queries, preserves data types."
   ]
  },
  {
   "cell_type": "code",
   "execution_count": 21,
   "id": "0cae3338",
   "metadata": {},
   "outputs": [],
   "source": [
    "combined_dataset.to_parquet(\"combined_datasets.parquet\", compression=\"gzip\")"
   ]
  },
  {
   "cell_type": "code",
   "execution_count": 22,
   "id": "c027b97a",
   "metadata": {},
   "outputs": [
    {
     "data": {
      "text/plain": [
       "label\n",
       "legit       92690\n",
       "spam        40396\n",
       "phishing    40014\n",
       "Name: count, dtype: int64"
      ]
     },
     "execution_count": 22,
     "metadata": {},
     "output_type": "execute_result"
    }
   ],
   "source": [
    "combined_dataset[\"label\"].value_counts()\n",
    "#== enron_spam_ds == spam_assassin_ds == phishin_ds1 == phishin_ds2).all()"
   ]
  }
 ],
 "metadata": {
  "kernelspec": {
   "display_name": "Python 3",
   "language": "python",
   "name": "python3"
  },
  "language_info": {
   "codemirror_mode": {
    "name": "ipython",
    "version": 3
   },
   "file_extension": ".py",
   "mimetype": "text/x-python",
   "name": "python",
   "nbconvert_exporter": "python",
   "pygments_lexer": "ipython3",
   "version": "3.9.13"
  }
 },
 "nbformat": 4,
 "nbformat_minor": 5
}
